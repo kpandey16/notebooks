{
 "cells": [
  {
   "cell_type": "code",
   "execution_count": 1,
   "metadata": {
    "ExecuteTime": {
     "end_time": "2020-10-04T16:55:45.309999Z",
     "start_time": "2020-10-04T16:55:45.306010Z"
    }
   },
   "outputs": [],
   "source": [
    "import re\n"
   ]
  },
  {
   "cell_type": "markdown",
   "metadata": {},
   "source": [
    "# # This the sample text taken from CSV file column"
   ]
  },
  {
   "cell_type": "code",
   "execution_count": 24,
   "metadata": {
    "ExecuteTime": {
     "end_time": "2020-10-04T17:18:28.987267Z",
     "start_time": "2020-10-04T17:18:28.979249Z"
    }
   },
   "outputs": [
    {
     "name": "stdout",
     "output_type": "stream",
     "text": [
      "[{'id': 145, 'name': 'luca'}, {'id': 392, 'name': 'paolo'}, {'id': 1431, 'name': 'gianfranco'}, {'id': 20510, 'name': 'paola'}]\n"
     ]
    }
   ],
   "source": [
    "sample_text = \"[{'id': 145, 'name': 'luca'}, {'id': 392, 'name': 'paolo'}, {'id': 1431, 'name': 'gianfranco'}, {'id': 20510, 'name': 'paola'}]\"\n",
    "print(sample_text)"
   ]
  },
  {
   "cell_type": "code",
   "execution_count": 5,
   "metadata": {
    "ExecuteTime": {
     "end_time": "2020-10-04T16:57:30.718179Z",
     "start_time": "2020-10-04T16:57:30.714189Z"
    }
   },
   "outputs": [],
   "source": [
    "pattern = \"'name':\\s+'[A-Za-z]+'\"\n",
    "c = re.findall(pattern, sample_text)"
   ]
  },
  {
   "cell_type": "code",
   "execution_count": 22,
   "metadata": {
    "ExecuteTime": {
     "end_time": "2020-10-04T17:03:47.111795Z",
     "start_time": "2020-10-04T17:03:47.100790Z"
    }
   },
   "outputs": [],
   "source": [
    "fullItems = []\n",
    "for item in c:\n",
    "    if item is not None:\n",
    "        iName = item.split(\":\")[1].replace(\"'\",\"\").strip()\n",
    "        fullItems.append(iName)\n"
   ]
  },
  {
   "cell_type": "markdown",
   "metadata": {},
   "source": [
    "# # This is the result when name is extracted out from the text"
   ]
  },
  {
   "cell_type": "code",
   "execution_count": 23,
   "metadata": {
    "ExecuteTime": {
     "end_time": "2020-10-04T17:03:47.986712Z",
     "start_time": "2020-10-04T17:03:47.973699Z"
    }
   },
   "outputs": [
    {
     "data": {
      "text/plain": [
       "['luca', 'paolo', 'gianfranco', 'paola']"
      ]
     },
     "execution_count": 23,
     "metadata": {},
     "output_type": "execute_result"
    }
   ],
   "source": [
    "fullItems"
   ]
  },
  {
   "cell_type": "code",
   "execution_count": null,
   "metadata": {},
   "outputs": [],
   "source": []
  }
 ],
 "metadata": {
  "kernelspec": {
   "display_name": "Python 3",
   "language": "python",
   "name": "python3"
  },
  "language_info": {
   "codemirror_mode": {
    "name": "ipython",
    "version": 3
   },
   "file_extension": ".py",
   "mimetype": "text/x-python",
   "name": "python",
   "nbconvert_exporter": "python",
   "pygments_lexer": "ipython3",
   "version": "3.6.10"
  },
  "toc": {
   "base_numbering": 1,
   "nav_menu": {},
   "number_sections": true,
   "sideBar": true,
   "skip_h1_title": false,
   "title_cell": "Table of Contents",
   "title_sidebar": "Contents",
   "toc_cell": false,
   "toc_position": {},
   "toc_section_display": true,
   "toc_window_display": false
  }
 },
 "nbformat": 4,
 "nbformat_minor": 4
}
