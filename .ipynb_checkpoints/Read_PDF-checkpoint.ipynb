{
 "cells": [
  {
   "cell_type": "code",
   "execution_count": 1,
   "metadata": {
    "ExecuteTime": {
     "end_time": "2020-09-20T08:32:17.931891Z",
     "start_time": "2020-09-20T08:32:17.063481Z"
    }
   },
   "outputs": [],
   "source": [
    "import tabula"
   ]
  },
  {
   "cell_type": "code",
   "execution_count": 34,
   "metadata": {
    "ExecuteTime": {
     "end_time": "2020-09-20T08:54:10.213407Z",
     "start_time": "2020-09-20T08:54:08.834685Z"
    }
   },
   "outputs": [],
   "source": [
    "\n",
    "pdf_path = \"D:/MyDocs/ITR2019-2020/1742663-BKSTATEMENT_KOTAK.pdf\"\n",
    "df = tabula.read_pdf(pdf_path, stream=True, pages= 1, multiple_tables=False)"
   ]
  },
  {
   "cell_type": "code",
   "execution_count": 35,
   "metadata": {
    "ExecuteTime": {
     "end_time": "2020-09-20T08:54:10.219392Z",
     "start_time": "2020-09-20T08:54:10.214405Z"
    }
   },
   "outputs": [
    {
     "data": {
      "text/plain": [
       "1"
      ]
     },
     "execution_count": 35,
     "metadata": {},
     "output_type": "execute_result"
    }
   ],
   "source": [
    "len(df)"
   ]
  },
  {
   "cell_type": "code",
   "execution_count": 36,
   "metadata": {
    "ExecuteTime": {
     "end_time": "2020-09-20T08:54:10.451096Z",
     "start_time": "2020-09-20T08:54:10.436126Z"
    }
   },
   "outputs": [
    {
     "data": {
      "text/html": [
       "<div>\n",
       "<style scoped>\n",
       "    .dataframe tbody tr th:only-of-type {\n",
       "        vertical-align: middle;\n",
       "    }\n",
       "\n",
       "    .dataframe tbody tr th {\n",
       "        vertical-align: top;\n",
       "    }\n",
       "\n",
       "    .dataframe thead th {\n",
       "        text-align: right;\n",
       "    }\n",
       "</style>\n",
       "<table border=\"1\" class=\"dataframe\">\n",
       "  <thead>\n",
       "    <tr style=\"text-align: right;\">\n",
       "      <th></th>\n",
       "      <th>Date</th>\n",
       "      <th>Narration</th>\n",
       "      <th>Chq/Ref No.</th>\n",
       "      <th>Withdrawal (Dr)</th>\n",
       "      <th>Deposit (Cr)</th>\n",
       "      <th>Balance</th>\n",
       "    </tr>\n",
       "  </thead>\n",
       "  <tbody>\n",
       "    <tr>\n",
       "      <th>0</th>\n",
       "      <td>14-Jun-19 UPI/TPSLCARD@yb/916516379775/Payment...</td>\n",
       "      <td>UPI-916508626537</td>\n",
       "      <td>800.00</td>\n",
       "      <td>NaN</td>\n",
       "      <td>15,508.15 (Cr)</td>\n",
       "      <td>NaN</td>\n",
       "    </tr>\n",
       "    <tr>\n",
       "      <th>1</th>\n",
       "      <td>17-Jun-19 ECSICR-TCS FINDIV</td>\n",
       "      <td>NaN</td>\n",
       "      <td>NaN</td>\n",
       "      <td>18.0</td>\n",
       "      <td>15,526.15 (Cr)</td>\n",
       "      <td>NaN</td>\n",
       "    </tr>\n",
       "    <tr>\n",
       "      <th>2</th>\n",
       "      <td>170619NC-KMB-C200333662IN3002142</td>\n",
       "      <td>NaN</td>\n",
       "      <td>NaN</td>\n",
       "      <td>NaN</td>\n",
       "      <td>NaN</td>\n",
       "      <td>NaN</td>\n",
       "    </tr>\n",
       "    <tr>\n",
       "      <th>3</th>\n",
       "      <td>25-Jun-19 ECSICR-INFOSYS LIMITEDNC-KMB-18195177</td>\n",
       "      <td>NaN</td>\n",
       "      <td>NaN</td>\n",
       "      <td>262.5</td>\n",
       "      <td>15,788.65 (Cr)</td>\n",
       "      <td>NaN</td>\n",
       "    </tr>\n",
       "    <tr>\n",
       "      <th>4</th>\n",
       "      <td>26-Jun-19 DP CHARGES RECOVERED</td>\n",
       "      <td>NaN</td>\n",
       "      <td>44.96</td>\n",
       "      <td>NaN</td>\n",
       "      <td>15,743.69 (Cr)</td>\n",
       "      <td>NaN</td>\n",
       "    </tr>\n",
       "    <tr>\n",
       "      <th>5</th>\n",
       "      <td>28-Jun-19 ECSICR-ICICI LOMBARD</td>\n",
       "      <td>NaN</td>\n",
       "      <td>NaN</td>\n",
       "      <td>77.0</td>\n",
       "      <td>15,820.69 (Cr)</td>\n",
       "      <td>NaN</td>\n",
       "    </tr>\n",
       "    <tr>\n",
       "      <th>6</th>\n",
       "      <td>GENERANC-KMB-2073492</td>\n",
       "      <td>NaN</td>\n",
       "      <td>NaN</td>\n",
       "      <td>NaN</td>\n",
       "      <td>NaN</td>\n",
       "      <td>NaN</td>\n",
       "    </tr>\n",
       "    <tr>\n",
       "      <th>7</th>\n",
       "      <td>30-Jun-19 Int.Pd:1112427914:01-04-2019 to 30-0...</td>\n",
       "      <td>NaN</td>\n",
       "      <td>NaN</td>\n",
       "      <td>275.0</td>\n",
       "      <td>16,095.69 (Cr)</td>\n",
       "      <td>NaN</td>\n",
       "    </tr>\n",
       "    <tr>\n",
       "      <th>8</th>\n",
       "      <td>23-Jul-19 ECSICR-TCS INTERIM</td>\n",
       "      <td>NaN</td>\n",
       "      <td>NaN</td>\n",
       "      <td>5.0</td>\n",
       "      <td>16,100.69 (Cr)</td>\n",
       "      <td>NaN</td>\n",
       "    </tr>\n",
       "    <tr>\n",
       "      <th>9</th>\n",
       "      <td>230719NC-KMB-C200341364IN300214</td>\n",
       "      <td>NaN</td>\n",
       "      <td>NaN</td>\n",
       "      <td>NaN</td>\n",
       "      <td>NaN</td>\n",
       "      <td>NaN</td>\n",
       "    </tr>\n",
       "    <tr>\n",
       "      <th>10</th>\n",
       "      <td>30-Jul-19 IMPS from HSBC RTGS T Ref 921119200819</td>\n",
       "      <td>IMPS-921119723621</td>\n",
       "      <td>NaN</td>\n",
       "      <td>1.0</td>\n",
       "      <td>16,101.69 (Cr)</td>\n",
       "      <td>NaN</td>\n",
       "    </tr>\n",
       "    <tr>\n",
       "      <th>11</th>\n",
       "      <td>08-Aug-19 ECSICR-MAHINDRA &amp;</td>\n",
       "      <td>NaN</td>\n",
       "      <td>NaN</td>\n",
       "      <td>493.0</td>\n",
       "      <td>16,594.69 (Cr)</td>\n",
       "      <td>NaN</td>\n",
       "    </tr>\n",
       "    <tr>\n",
       "      <th>12</th>\n",
       "      <td>MAHINDRANC-KMB-10839605</td>\n",
       "      <td>NaN</td>\n",
       "      <td>NaN</td>\n",
       "      <td>NaN</td>\n",
       "      <td>NaN</td>\n",
       "      <td>NaN</td>\n",
       "    </tr>\n",
       "    <tr>\n",
       "      <th>13</th>\n",
       "      <td>13-Aug-19 ECSICR-ICICI PRUDENTIAL</td>\n",
       "      <td>NaN</td>\n",
       "      <td>NaN</td>\n",
       "      <td>68.2</td>\n",
       "      <td>16,662.89 (Cr)</td>\n",
       "      <td>NaN</td>\n",
       "    </tr>\n",
       "    <tr>\n",
       "      <th>14</th>\n",
       "      <td>LIFNC-KMB-3889499</td>\n",
       "      <td>NaN</td>\n",
       "      <td>NaN</td>\n",
       "      <td>NaN</td>\n",
       "      <td>NaN</td>\n",
       "      <td>NaN</td>\n",
       "    </tr>\n",
       "    <tr>\n",
       "      <th>15</th>\n",
       "      <td>13-Aug-19 MB:PAID CARD NUMBER XX3995 PAY</td>\n",
       "      <td>VPI-999574844113</td>\n",
       "      <td>889.82</td>\n",
       "      <td>NaN</td>\n",
       "      <td>15,773.07 (Cr)</td>\n",
       "      <td>NaN</td>\n",
       "    </tr>\n",
       "    <tr>\n",
       "      <th>16</th>\n",
       "      <td>14-Aug-19 ECSICR-RELIANCE</td>\n",
       "      <td>NaN</td>\n",
       "      <td>NaN</td>\n",
       "      <td>130.0</td>\n",
       "      <td>15,903.07 (Cr)</td>\n",
       "      <td>NaN</td>\n",
       "    </tr>\n",
       "    <tr>\n",
       "      <th>17</th>\n",
       "      <td>INDUSTRIESNC-KMB-195116083</td>\n",
       "      <td>NaN</td>\n",
       "      <td>NaN</td>\n",
       "      <td>NaN</td>\n",
       "      <td>NaN</td>\n",
       "      <td>NaN</td>\n",
       "    </tr>\n",
       "    <tr>\n",
       "      <th>18</th>\n",
       "      <td>13-Sep-19 MB:PAID CARD NUMBER XX3995</td>\n",
       "      <td>VPI-999561082284</td>\n",
       "      <td>799.00</td>\n",
       "      <td>NaN</td>\n",
       "      <td>15,104.07 (Cr)</td>\n",
       "      <td>NaN</td>\n",
       "    </tr>\n",
       "    <tr>\n",
       "      <th>19</th>\n",
       "      <td>24-Sep-19 Chrg: KS DP Charges Recovered Dated2...</td>\n",
       "      <td>KSDP36279</td>\n",
       "      <td>160.48</td>\n",
       "      <td>NaN</td>\n",
       "      <td>14,943.59 (Cr)</td>\n",
       "      <td>NaN</td>\n",
       "    </tr>\n",
       "  </tbody>\n",
       "</table>\n",
       "</div>"
      ],
      "text/plain": [
       "                                                 Date          Narration  \\\n",
       "0   14-Jun-19 UPI/TPSLCARD@yb/916516379775/Payment...   UPI-916508626537   \n",
       "1                         17-Jun-19 ECSICR-TCS FINDIV                NaN   \n",
       "2                    170619NC-KMB-C200333662IN3002142                NaN   \n",
       "3     25-Jun-19 ECSICR-INFOSYS LIMITEDNC-KMB-18195177                NaN   \n",
       "4                      26-Jun-19 DP CHARGES RECOVERED                NaN   \n",
       "5                      28-Jun-19 ECSICR-ICICI LOMBARD                NaN   \n",
       "6                                GENERANC-KMB-2073492                NaN   \n",
       "7   30-Jun-19 Int.Pd:1112427914:01-04-2019 to 30-0...                NaN   \n",
       "8                        23-Jul-19 ECSICR-TCS INTERIM                NaN   \n",
       "9                     230719NC-KMB-C200341364IN300214                NaN   \n",
       "10   30-Jul-19 IMPS from HSBC RTGS T Ref 921119200819  IMPS-921119723621   \n",
       "11                        08-Aug-19 ECSICR-MAHINDRA &                NaN   \n",
       "12                            MAHINDRANC-KMB-10839605                NaN   \n",
       "13                  13-Aug-19 ECSICR-ICICI PRUDENTIAL                NaN   \n",
       "14                                  LIFNC-KMB-3889499                NaN   \n",
       "15           13-Aug-19 MB:PAID CARD NUMBER XX3995 PAY   VPI-999574844113   \n",
       "16                          14-Aug-19 ECSICR-RELIANCE                NaN   \n",
       "17                         INDUSTRIESNC-KMB-195116083                NaN   \n",
       "18               13-Sep-19 MB:PAID CARD NUMBER XX3995   VPI-999561082284   \n",
       "19  24-Sep-19 Chrg: KS DP Charges Recovered Dated2...          KSDP36279   \n",
       "\n",
       "    Chq/Ref No.  Withdrawal (Dr)    Deposit (Cr)  Balance  \n",
       "0        800.00              NaN  15,508.15 (Cr)      NaN  \n",
       "1           NaN             18.0  15,526.15 (Cr)      NaN  \n",
       "2           NaN              NaN             NaN      NaN  \n",
       "3           NaN            262.5  15,788.65 (Cr)      NaN  \n",
       "4         44.96              NaN  15,743.69 (Cr)      NaN  \n",
       "5           NaN             77.0  15,820.69 (Cr)      NaN  \n",
       "6           NaN              NaN             NaN      NaN  \n",
       "7           NaN            275.0  16,095.69 (Cr)      NaN  \n",
       "8           NaN              5.0  16,100.69 (Cr)      NaN  \n",
       "9           NaN              NaN             NaN      NaN  \n",
       "10          NaN              1.0  16,101.69 (Cr)      NaN  \n",
       "11          NaN            493.0  16,594.69 (Cr)      NaN  \n",
       "12          NaN              NaN             NaN      NaN  \n",
       "13          NaN             68.2  16,662.89 (Cr)      NaN  \n",
       "14          NaN              NaN             NaN      NaN  \n",
       "15       889.82              NaN  15,773.07 (Cr)      NaN  \n",
       "16          NaN            130.0  15,903.07 (Cr)      NaN  \n",
       "17          NaN              NaN             NaN      NaN  \n",
       "18       799.00              NaN  15,104.07 (Cr)      NaN  \n",
       "19       160.48              NaN  14,943.59 (Cr)      NaN  "
      ]
     },
     "execution_count": 36,
     "metadata": {},
     "output_type": "execute_result"
    }
   ],
   "source": [
    "df[0]"
   ]
  },
  {
   "cell_type": "code",
   "execution_count": 22,
   "metadata": {
    "ExecuteTime": {
     "end_time": "2020-09-20T08:51:48.026318Z",
     "start_time": "2020-09-20T08:51:47.227299Z"
    }
   },
   "outputs": [],
   "source": [
    "\n",
    "\n",
    "import camelot"
   ]
  },
  {
   "cell_type": "code",
   "execution_count": 28,
   "metadata": {
    "ExecuteTime": {
     "end_time": "2020-09-20T08:53:36.464481Z",
     "start_time": "2020-09-20T08:53:34.836097Z"
    }
   },
   "outputs": [],
   "source": [
    "p2 = \"C:/Users/pande/Downloads/data.pdf\"\n",
    "\n",
    "tables = camelot.read_pdf(p2)\n"
   ]
  },
  {
   "cell_type": "code",
   "execution_count": 29,
   "metadata": {
    "ExecuteTime": {
     "end_time": "2020-09-20T08:53:37.041191Z",
     "start_time": "2020-09-20T08:53:37.038168Z"
    }
   },
   "outputs": [
    {
     "name": "stdout",
     "output_type": "stream",
     "text": [
      "Total tables extracted: 1\n"
     ]
    }
   ],
   "source": [
    "print(\"Total tables extracted:\", tables.n)"
   ]
  },
  {
   "cell_type": "code",
   "execution_count": 30,
   "metadata": {
    "ExecuteTime": {
     "end_time": "2020-09-20T08:53:38.414742Z",
     "start_time": "2020-09-20T08:53:38.383794Z"
    }
   },
   "outputs": [
    {
     "data": {
      "text/html": [
       "<div>\n",
       "<style scoped>\n",
       "    .dataframe tbody tr th:only-of-type {\n",
       "        vertical-align: middle;\n",
       "    }\n",
       "\n",
       "    .dataframe tbody tr th {\n",
       "        vertical-align: top;\n",
       "    }\n",
       "\n",
       "    .dataframe thead th {\n",
       "        text-align: right;\n",
       "    }\n",
       "</style>\n",
       "<table border=\"1\" class=\"dataframe\">\n",
       "  <thead>\n",
       "    <tr style=\"text-align: right;\">\n",
       "      <th></th>\n",
       "      <th>0</th>\n",
       "      <th>1</th>\n",
       "      <th>2</th>\n",
       "      <th>3</th>\n",
       "      <th>4</th>\n",
       "      <th>5</th>\n",
       "      <th>6</th>\n",
       "      <th>7</th>\n",
       "      <th>8</th>\n",
       "      <th>9</th>\n",
       "      <th>10</th>\n",
       "      <th>11</th>\n",
       "    </tr>\n",
       "  </thead>\n",
       "  <tbody>\n",
       "    <tr>\n",
       "      <th>0</th>\n",
       "      <td></td>\n",
       "      <td>mpg</td>\n",
       "      <td>cyl</td>\n",
       "      <td>disp</td>\n",
       "      <td>hp</td>\n",
       "      <td>drat</td>\n",
       "      <td>wt</td>\n",
       "      <td>qsec</td>\n",
       "      <td>vs</td>\n",
       "      <td>am</td>\n",
       "      <td>gear</td>\n",
       "      <td>carb</td>\n",
       "    </tr>\n",
       "    <tr>\n",
       "      <th>1</th>\n",
       "      <td>Mazda RX4</td>\n",
       "      <td>21.0</td>\n",
       "      <td>6</td>\n",
       "      <td>160.0</td>\n",
       "      <td>110</td>\n",
       "      <td>3.90</td>\n",
       "      <td>2.620</td>\n",
       "      <td>16.46</td>\n",
       "      <td>0</td>\n",
       "      <td>1</td>\n",
       "      <td>4</td>\n",
       "      <td>4</td>\n",
       "    </tr>\n",
       "    <tr>\n",
       "      <th>2</th>\n",
       "      <td>Mazda RX4 Wag</td>\n",
       "      <td>21.0</td>\n",
       "      <td>6</td>\n",
       "      <td>160.0</td>\n",
       "      <td>110</td>\n",
       "      <td>3.90</td>\n",
       "      <td>2.875</td>\n",
       "      <td>17.02</td>\n",
       "      <td>0</td>\n",
       "      <td>1</td>\n",
       "      <td>4</td>\n",
       "      <td>4</td>\n",
       "    </tr>\n",
       "    <tr>\n",
       "      <th>3</th>\n",
       "      <td>Datsun 710</td>\n",
       "      <td>22.8</td>\n",
       "      <td>4</td>\n",
       "      <td>108.0</td>\n",
       "      <td>93</td>\n",
       "      <td>3.85</td>\n",
       "      <td>2.320</td>\n",
       "      <td>18.61</td>\n",
       "      <td>1</td>\n",
       "      <td>1</td>\n",
       "      <td>4</td>\n",
       "      <td>1</td>\n",
       "    </tr>\n",
       "    <tr>\n",
       "      <th>4</th>\n",
       "      <td>Hornet 4 Drive</td>\n",
       "      <td>21.4</td>\n",
       "      <td>6</td>\n",
       "      <td>258.0</td>\n",
       "      <td>110</td>\n",
       "      <td>3.08</td>\n",
       "      <td>3.215</td>\n",
       "      <td>19.44</td>\n",
       "      <td>1</td>\n",
       "      <td>0</td>\n",
       "      <td>3</td>\n",
       "      <td>1</td>\n",
       "    </tr>\n",
       "    <tr>\n",
       "      <th>5</th>\n",
       "      <td>Hornet Sportabout</td>\n",
       "      <td>18.7</td>\n",
       "      <td>8</td>\n",
       "      <td>360.0</td>\n",
       "      <td>175</td>\n",
       "      <td>3.15</td>\n",
       "      <td>3.440</td>\n",
       "      <td>17.02</td>\n",
       "      <td>0</td>\n",
       "      <td>0</td>\n",
       "      <td>3</td>\n",
       "      <td>2</td>\n",
       "    </tr>\n",
       "    <tr>\n",
       "      <th>6</th>\n",
       "      <td>Valiant</td>\n",
       "      <td>18.1</td>\n",
       "      <td>6</td>\n",
       "      <td>225.0</td>\n",
       "      <td>105</td>\n",
       "      <td>2.76</td>\n",
       "      <td>3.460</td>\n",
       "      <td>20.22</td>\n",
       "      <td>1</td>\n",
       "      <td>0</td>\n",
       "      <td>3</td>\n",
       "      <td>1</td>\n",
       "    </tr>\n",
       "    <tr>\n",
       "      <th>7</th>\n",
       "      <td>Duster 360</td>\n",
       "      <td>14.3</td>\n",
       "      <td>8</td>\n",
       "      <td>360.0</td>\n",
       "      <td>245</td>\n",
       "      <td>3.21</td>\n",
       "      <td>3.570</td>\n",
       "      <td>15.84</td>\n",
       "      <td>0</td>\n",
       "      <td>0</td>\n",
       "      <td>3</td>\n",
       "      <td>4</td>\n",
       "    </tr>\n",
       "    <tr>\n",
       "      <th>8</th>\n",
       "      <td>Merc 240D</td>\n",
       "      <td>24.4</td>\n",
       "      <td>4</td>\n",
       "      <td>146.7</td>\n",
       "      <td>62</td>\n",
       "      <td>3.69</td>\n",
       "      <td>3.190</td>\n",
       "      <td>20.00</td>\n",
       "      <td>1</td>\n",
       "      <td>0</td>\n",
       "      <td>4</td>\n",
       "      <td>2</td>\n",
       "    </tr>\n",
       "    <tr>\n",
       "      <th>9</th>\n",
       "      <td>Merc 230</td>\n",
       "      <td>22.8</td>\n",
       "      <td>4</td>\n",
       "      <td>140.8</td>\n",
       "      <td>95</td>\n",
       "      <td>3.92</td>\n",
       "      <td>3.150</td>\n",
       "      <td>22.90</td>\n",
       "      <td>1</td>\n",
       "      <td>0</td>\n",
       "      <td>4</td>\n",
       "      <td>2</td>\n",
       "    </tr>\n",
       "    <tr>\n",
       "      <th>10</th>\n",
       "      <td>Merc 280</td>\n",
       "      <td>19.2</td>\n",
       "      <td>6</td>\n",
       "      <td>167.6</td>\n",
       "      <td>123</td>\n",
       "      <td>3.92</td>\n",
       "      <td>3.440</td>\n",
       "      <td>18.30</td>\n",
       "      <td>1</td>\n",
       "      <td>0</td>\n",
       "      <td>4</td>\n",
       "      <td>4</td>\n",
       "    </tr>\n",
       "    <tr>\n",
       "      <th>11</th>\n",
       "      <td>Merc 280C</td>\n",
       "      <td>17.8</td>\n",
       "      <td>6</td>\n",
       "      <td>167.6</td>\n",
       "      <td>123</td>\n",
       "      <td>3.92</td>\n",
       "      <td>3.440</td>\n",
       "      <td>18.90</td>\n",
       "      <td>1</td>\n",
       "      <td>0</td>\n",
       "      <td>4</td>\n",
       "      <td>4</td>\n",
       "    </tr>\n",
       "    <tr>\n",
       "      <th>12</th>\n",
       "      <td>Merc 450SE</td>\n",
       "      <td>16.4</td>\n",
       "      <td>8</td>\n",
       "      <td>275.8</td>\n",
       "      <td>180</td>\n",
       "      <td>3.07</td>\n",
       "      <td>4.070</td>\n",
       "      <td>17.40</td>\n",
       "      <td>0</td>\n",
       "      <td>0</td>\n",
       "      <td>3</td>\n",
       "      <td>3</td>\n",
       "    </tr>\n",
       "    <tr>\n",
       "      <th>13</th>\n",
       "      <td>Merc 450SL</td>\n",
       "      <td>17.3</td>\n",
       "      <td>8</td>\n",
       "      <td>275.8</td>\n",
       "      <td>180</td>\n",
       "      <td>3.07</td>\n",
       "      <td>3.730</td>\n",
       "      <td>17.60</td>\n",
       "      <td>0</td>\n",
       "      <td>0</td>\n",
       "      <td>3</td>\n",
       "      <td>3</td>\n",
       "    </tr>\n",
       "    <tr>\n",
       "      <th>14</th>\n",
       "      <td>Merc 450SLC</td>\n",
       "      <td>15.2</td>\n",
       "      <td>8</td>\n",
       "      <td>275.8</td>\n",
       "      <td>180</td>\n",
       "      <td>3.07</td>\n",
       "      <td>3.780</td>\n",
       "      <td>18.00</td>\n",
       "      <td>0</td>\n",
       "      <td>0</td>\n",
       "      <td>3</td>\n",
       "      <td>3</td>\n",
       "    </tr>\n",
       "    <tr>\n",
       "      <th>15</th>\n",
       "      <td>Cadillac Fleetwood</td>\n",
       "      <td>10.4</td>\n",
       "      <td>8</td>\n",
       "      <td>472.0</td>\n",
       "      <td>205</td>\n",
       "      <td>2.93</td>\n",
       "      <td>5.250</td>\n",
       "      <td>17.98</td>\n",
       "      <td>0</td>\n",
       "      <td>0</td>\n",
       "      <td>3</td>\n",
       "      <td>4</td>\n",
       "    </tr>\n",
       "    <tr>\n",
       "      <th>16</th>\n",
       "      <td>Lincoln Continental</td>\n",
       "      <td>10.4</td>\n",
       "      <td>8</td>\n",
       "      <td>460.0</td>\n",
       "      <td>215</td>\n",
       "      <td>3.00</td>\n",
       "      <td>5.424</td>\n",
       "      <td>17.82</td>\n",
       "      <td>0</td>\n",
       "      <td>0</td>\n",
       "      <td>3</td>\n",
       "      <td>4</td>\n",
       "    </tr>\n",
       "    <tr>\n",
       "      <th>17</th>\n",
       "      <td>Chrysler Imperial</td>\n",
       "      <td>14.7</td>\n",
       "      <td>8</td>\n",
       "      <td>440.0</td>\n",
       "      <td>230</td>\n",
       "      <td>3.23</td>\n",
       "      <td>5.345</td>\n",
       "      <td>17.42</td>\n",
       "      <td>0</td>\n",
       "      <td>0</td>\n",
       "      <td>3</td>\n",
       "      <td>4</td>\n",
       "    </tr>\n",
       "    <tr>\n",
       "      <th>18</th>\n",
       "      <td>Fiat 128</td>\n",
       "      <td>32.4</td>\n",
       "      <td>4</td>\n",
       "      <td>78.7</td>\n",
       "      <td>66</td>\n",
       "      <td>4.08</td>\n",
       "      <td>2.200</td>\n",
       "      <td>19.47</td>\n",
       "      <td>1</td>\n",
       "      <td>1</td>\n",
       "      <td>4</td>\n",
       "      <td>1</td>\n",
       "    </tr>\n",
       "    <tr>\n",
       "      <th>19</th>\n",
       "      <td>Honda Civic</td>\n",
       "      <td>30.4</td>\n",
       "      <td>4</td>\n",
       "      <td>75.7</td>\n",
       "      <td>52</td>\n",
       "      <td>4.93</td>\n",
       "      <td>1.615</td>\n",
       "      <td>18.52</td>\n",
       "      <td>1</td>\n",
       "      <td>1</td>\n",
       "      <td>4</td>\n",
       "      <td>2</td>\n",
       "    </tr>\n",
       "    <tr>\n",
       "      <th>20</th>\n",
       "      <td>Toyota Corolla</td>\n",
       "      <td>33.9</td>\n",
       "      <td>4</td>\n",
       "      <td>71.1</td>\n",
       "      <td>65</td>\n",
       "      <td>4.22</td>\n",
       "      <td>1.835</td>\n",
       "      <td>19.90</td>\n",
       "      <td>1</td>\n",
       "      <td>1</td>\n",
       "      <td>4</td>\n",
       "      <td>1</td>\n",
       "    </tr>\n",
       "    <tr>\n",
       "      <th>21</th>\n",
       "      <td>Toyota Corona</td>\n",
       "      <td>21.5</td>\n",
       "      <td>4</td>\n",
       "      <td>120.1</td>\n",
       "      <td>97</td>\n",
       "      <td>3.70</td>\n",
       "      <td>2.465</td>\n",
       "      <td>20.01</td>\n",
       "      <td>1</td>\n",
       "      <td>0</td>\n",
       "      <td>3</td>\n",
       "      <td>1</td>\n",
       "    </tr>\n",
       "    <tr>\n",
       "      <th>22</th>\n",
       "      <td>Dodge Challenger</td>\n",
       "      <td>15.5</td>\n",
       "      <td>8</td>\n",
       "      <td>318.0</td>\n",
       "      <td>150</td>\n",
       "      <td>2.76</td>\n",
       "      <td>3.520</td>\n",
       "      <td>16.87</td>\n",
       "      <td>0</td>\n",
       "      <td>0</td>\n",
       "      <td>3</td>\n",
       "      <td>2</td>\n",
       "    </tr>\n",
       "    <tr>\n",
       "      <th>23</th>\n",
       "      <td>AMC Javelin</td>\n",
       "      <td>15.2</td>\n",
       "      <td>8</td>\n",
       "      <td>304.0</td>\n",
       "      <td>150</td>\n",
       "      <td>3.15</td>\n",
       "      <td>3.435</td>\n",
       "      <td>17.30</td>\n",
       "      <td>0</td>\n",
       "      <td>0</td>\n",
       "      <td>3</td>\n",
       "      <td>2</td>\n",
       "    </tr>\n",
       "    <tr>\n",
       "      <th>24</th>\n",
       "      <td>Camaro Z28</td>\n",
       "      <td>13.3</td>\n",
       "      <td>8</td>\n",
       "      <td>350.0</td>\n",
       "      <td>245</td>\n",
       "      <td>3.73</td>\n",
       "      <td>3.840</td>\n",
       "      <td>15.41</td>\n",
       "      <td>0</td>\n",
       "      <td>0</td>\n",
       "      <td>3</td>\n",
       "      <td>4</td>\n",
       "    </tr>\n",
       "    <tr>\n",
       "      <th>25</th>\n",
       "      <td>Pontiac Firebird</td>\n",
       "      <td>19.2</td>\n",
       "      <td>8</td>\n",
       "      <td>400.0</td>\n",
       "      <td>175</td>\n",
       "      <td>3.08</td>\n",
       "      <td>3.845</td>\n",
       "      <td>17.05</td>\n",
       "      <td>0</td>\n",
       "      <td>0</td>\n",
       "      <td>3</td>\n",
       "      <td>2</td>\n",
       "    </tr>\n",
       "    <tr>\n",
       "      <th>26</th>\n",
       "      <td>Fiat X1-9</td>\n",
       "      <td>27.3</td>\n",
       "      <td>4</td>\n",
       "      <td>79.0</td>\n",
       "      <td>66</td>\n",
       "      <td>4.08</td>\n",
       "      <td>1.935</td>\n",
       "      <td>18.90</td>\n",
       "      <td>1</td>\n",
       "      <td>1</td>\n",
       "      <td>4</td>\n",
       "      <td>1</td>\n",
       "    </tr>\n",
       "    <tr>\n",
       "      <th>27</th>\n",
       "      <td>Porsche 914-2</td>\n",
       "      <td>26.0</td>\n",
       "      <td>4</td>\n",
       "      <td>120.3</td>\n",
       "      <td>91</td>\n",
       "      <td>4.43</td>\n",
       "      <td>2.140</td>\n",
       "      <td>16.70</td>\n",
       "      <td>0</td>\n",
       "      <td>1</td>\n",
       "      <td>5</td>\n",
       "      <td>2</td>\n",
       "    </tr>\n",
       "    <tr>\n",
       "      <th>28</th>\n",
       "      <td>Lotus Europa</td>\n",
       "      <td>30.4</td>\n",
       "      <td>4</td>\n",
       "      <td>95.1</td>\n",
       "      <td>113</td>\n",
       "      <td>3.77</td>\n",
       "      <td>1.513</td>\n",
       "      <td>16.90</td>\n",
       "      <td>1</td>\n",
       "      <td>1</td>\n",
       "      <td>5</td>\n",
       "      <td>2</td>\n",
       "    </tr>\n",
       "    <tr>\n",
       "      <th>29</th>\n",
       "      <td>Ford Pantera L</td>\n",
       "      <td>15.8</td>\n",
       "      <td>8</td>\n",
       "      <td>351.0</td>\n",
       "      <td>264</td>\n",
       "      <td>4.22</td>\n",
       "      <td>3.170</td>\n",
       "      <td>14.50</td>\n",
       "      <td>0</td>\n",
       "      <td>1</td>\n",
       "      <td>5</td>\n",
       "      <td>4</td>\n",
       "    </tr>\n",
       "    <tr>\n",
       "      <th>30</th>\n",
       "      <td>Ferrari Dino</td>\n",
       "      <td>19.7</td>\n",
       "      <td>6</td>\n",
       "      <td>145.0</td>\n",
       "      <td>175</td>\n",
       "      <td>3.62</td>\n",
       "      <td>2.770</td>\n",
       "      <td>15.50</td>\n",
       "      <td>0</td>\n",
       "      <td>1</td>\n",
       "      <td>5</td>\n",
       "      <td>6</td>\n",
       "    </tr>\n",
       "    <tr>\n",
       "      <th>31</th>\n",
       "      <td>Maserati Bora</td>\n",
       "      <td>15.0</td>\n",
       "      <td>8</td>\n",
       "      <td>301.0</td>\n",
       "      <td>335</td>\n",
       "      <td>3.54</td>\n",
       "      <td>3.570</td>\n",
       "      <td>14.60</td>\n",
       "      <td>0</td>\n",
       "      <td>1</td>\n",
       "      <td>5</td>\n",
       "      <td>8</td>\n",
       "    </tr>\n",
       "    <tr>\n",
       "      <th>32</th>\n",
       "      <td>Volvo 142E</td>\n",
       "      <td>21.4</td>\n",
       "      <td>4</td>\n",
       "      <td>121.0</td>\n",
       "      <td>109</td>\n",
       "      <td>4.11</td>\n",
       "      <td>2.780</td>\n",
       "      <td>18.60</td>\n",
       "      <td>1</td>\n",
       "      <td>1</td>\n",
       "      <td>4</td>\n",
       "      <td>2</td>\n",
       "    </tr>\n",
       "  </tbody>\n",
       "</table>\n",
       "</div>"
      ],
      "text/plain": [
       "                      0     1    2      3    4     5      6      7   8   9  \\\n",
       "0                         mpg  cyl   disp   hp  drat     wt   qsec  vs  am   \n",
       "1             Mazda RX4  21.0    6  160.0  110  3.90  2.620  16.46   0   1   \n",
       "2         Mazda RX4 Wag  21.0    6  160.0  110  3.90  2.875  17.02   0   1   \n",
       "3            Datsun 710  22.8    4  108.0   93  3.85  2.320  18.61   1   1   \n",
       "4        Hornet 4 Drive  21.4    6  258.0  110  3.08  3.215  19.44   1   0   \n",
       "5     Hornet Sportabout  18.7    8  360.0  175  3.15  3.440  17.02   0   0   \n",
       "6               Valiant  18.1    6  225.0  105  2.76  3.460  20.22   1   0   \n",
       "7            Duster 360  14.3    8  360.0  245  3.21  3.570  15.84   0   0   \n",
       "8             Merc 240D  24.4    4  146.7   62  3.69  3.190  20.00   1   0   \n",
       "9              Merc 230  22.8    4  140.8   95  3.92  3.150  22.90   1   0   \n",
       "10             Merc 280  19.2    6  167.6  123  3.92  3.440  18.30   1   0   \n",
       "11            Merc 280C  17.8    6  167.6  123  3.92  3.440  18.90   1   0   \n",
       "12           Merc 450SE  16.4    8  275.8  180  3.07  4.070  17.40   0   0   \n",
       "13           Merc 450SL  17.3    8  275.8  180  3.07  3.730  17.60   0   0   \n",
       "14          Merc 450SLC  15.2    8  275.8  180  3.07  3.780  18.00   0   0   \n",
       "15   Cadillac Fleetwood  10.4    8  472.0  205  2.93  5.250  17.98   0   0   \n",
       "16  Lincoln Continental  10.4    8  460.0  215  3.00  5.424  17.82   0   0   \n",
       "17    Chrysler Imperial  14.7    8  440.0  230  3.23  5.345  17.42   0   0   \n",
       "18             Fiat 128  32.4    4   78.7   66  4.08  2.200  19.47   1   1   \n",
       "19          Honda Civic  30.4    4   75.7   52  4.93  1.615  18.52   1   1   \n",
       "20       Toyota Corolla  33.9    4   71.1   65  4.22  1.835  19.90   1   1   \n",
       "21        Toyota Corona  21.5    4  120.1   97  3.70  2.465  20.01   1   0   \n",
       "22     Dodge Challenger  15.5    8  318.0  150  2.76  3.520  16.87   0   0   \n",
       "23          AMC Javelin  15.2    8  304.0  150  3.15  3.435  17.30   0   0   \n",
       "24           Camaro Z28  13.3    8  350.0  245  3.73  3.840  15.41   0   0   \n",
       "25     Pontiac Firebird  19.2    8  400.0  175  3.08  3.845  17.05   0   0   \n",
       "26            Fiat X1-9  27.3    4   79.0   66  4.08  1.935  18.90   1   1   \n",
       "27        Porsche 914-2  26.0    4  120.3   91  4.43  2.140  16.70   0   1   \n",
       "28         Lotus Europa  30.4    4   95.1  113  3.77  1.513  16.90   1   1   \n",
       "29       Ford Pantera L  15.8    8  351.0  264  4.22  3.170  14.50   0   1   \n",
       "30         Ferrari Dino  19.7    6  145.0  175  3.62  2.770  15.50   0   1   \n",
       "31        Maserati Bora  15.0    8  301.0  335  3.54  3.570  14.60   0   1   \n",
       "32           Volvo 142E  21.4    4  121.0  109  4.11  2.780  18.60   1   1   \n",
       "\n",
       "      10    11  \n",
       "0   gear  carb  \n",
       "1      4     4  \n",
       "2      4     4  \n",
       "3      4     1  \n",
       "4      3     1  \n",
       "5      3     2  \n",
       "6      3     1  \n",
       "7      3     4  \n",
       "8      4     2  \n",
       "9      4     2  \n",
       "10     4     4  \n",
       "11     4     4  \n",
       "12     3     3  \n",
       "13     3     3  \n",
       "14     3     3  \n",
       "15     3     4  \n",
       "16     3     4  \n",
       "17     3     4  \n",
       "18     4     1  \n",
       "19     4     2  \n",
       "20     4     1  \n",
       "21     3     1  \n",
       "22     3     2  \n",
       "23     3     2  \n",
       "24     3     4  \n",
       "25     3     2  \n",
       "26     4     1  \n",
       "27     5     2  \n",
       "28     5     2  \n",
       "29     5     4  \n",
       "30     5     6  \n",
       "31     5     8  \n",
       "32     4     2  "
      ]
     },
     "execution_count": 30,
     "metadata": {},
     "output_type": "execute_result"
    }
   ],
   "source": [
    "tables[0].df"
   ]
  },
  {
   "cell_type": "code",
   "execution_count": 37,
   "metadata": {
    "ExecuteTime": {
     "end_time": "2020-09-20T08:55:06.255589Z",
     "start_time": "2020-09-20T08:55:06.251599Z"
    }
   },
   "outputs": [],
   "source": [
    "import PyPDF2\n",
    "from PyPDF2 import PdfFileReader"
   ]
  },
  {
   "cell_type": "code",
   "execution_count": 38,
   "metadata": {
    "ExecuteTime": {
     "end_time": "2020-09-20T08:55:40.396184Z",
     "start_time": "2020-09-20T08:55:40.387208Z"
    }
   },
   "outputs": [
    {
     "name": "stdout",
     "output_type": "stream",
     "text": [
      "Total number of Pages: 6\n"
     ]
    }
   ],
   "source": [
    "pdf = open(pdf_path, \"rb\")\n",
    "pdf_reader = PyPDF2.PdfFileReader(pdf)\n",
    "print(\"Total number of Pages:\", pdf_reader.numPages)\n"
   ]
  },
  {
   "cell_type": "code",
   "execution_count": 40,
   "metadata": {
    "ExecuteTime": {
     "end_time": "2020-09-20T08:56:53.138767Z",
     "start_time": "2020-09-20T08:56:53.073909Z"
    }
   },
   "outputs": [
    {
     "name": "stdout",
     "output_type": "stream",
     "text": [
      "KrishnaMurtyPandey1612HousingBoardColonySector31Gurgaon.GURGAON121001HARYANAINDIACRNNo.211795051AccountNo.1112427914Period01-Apr-19to31-Mar-20CurrencyIndianRupeesHomeBranchGurgaon-Sec31NomineeRegisteredYesNomineeNameNAMRATAUPADHVAYStatementofBankingAccountDateNarrationChq/RefNo.Withdrawal(Dr)Deposit(Cr)Balance01-Apr-19OPENINGBALANCE...37,280.8837,280.88(Cr)01-Apr-19KS3IN1IPONKVFQ000134103703IN1-00134103705,000.0032,280.88(Cr)03-Apr-19ECSICR-BHARATDYNAMICSLIMINC-KMB-0000000000000000183.7532,464.63(Cr)06-Apr-19UPI/TPSLCARD@yb/909639099685/PaymentforUPI-9096130267503,451.0029,013.63(Cr)16-Apr-19DPCHARGESRECOVERED160.4828,853.15(Cr)18-Apr-19KS3IN1SPNKVFQ000134837183IN1-001348371810,000.0018,853.15(Cr)22-Apr-19ECSICR-SBILIFEINSURANCECNC-KMB-142273942.0018,895.15(Cr)01-May-19UPI/8527475354@/912118996563/PaymentfroUPI-9121094132007,000.0025,895.15(Cr)02-May-19KS3IN1IPONKVFQ000135333743IN1-00135333745,000.0020,895.15(Cr)13-May-19Chrg:DebitCardAnnualFee8160For2019TBMS177.0020,718.15(Cr)14-May-19UPI/TPSLCARD@yb/913438733925/PaymentforUPI-913419288541800.0019,918.15(Cr)15-May-19KSPAYOUTCMS-190515000HAO25,000.0044,918.15(Cr)20-May-19UPI/8527475354@/914033365159/RegularUPI-91401129955012,000.0032,918.15(Cr)26-May-19UPI/EURONET@ybl/914636828472/PaymentforUPI-91460985434210.0032,908.15(Cr)05-Jun-19KS3IN1SPNKVFQ000136911493IN1-001369114916,600.0016,308.15(Cr)14-Jun-19UPI/TPSLCARD@yb/916516379775/PaymentforUPI-916508626537800.0015,508.15(Cr)17-Jun-19ECSICR-TCSFINDIV170619NC-KMB-C200333662IN300214218.0015,526.15(Cr)25-Jun-19ECSICR-INFOSYSLIMITEDNC-KMB-18195177262.5015,788.65(Cr)26-Jun-19DPCHARGESRECOVERED44.9615,743.69(Cr)28-Jun-19ECSICR-ICICILOMBARDGENERANC-KMB-207349277.0015,820.69(Cr)30-Jun-19Int.Pd:1112427914:01-04-2019to30-06-2019275.0016,095.69(Cr)23-Jul-19ECSICR-TCSINTERIM230719NC-KMB-C200341364IN3002145.0016,100.69(Cr)30-Jul-19IMPSfromHSBCRTGSTRef921119200819IMPS-9211197236211.0016,101.69(Cr)08-Aug-19ECSICR-MAHINDRA&MAHINDRANC-KMB-10839605493.0016,594.69(Cr)13-Aug-19ECSICR-ICICIPRUDENTIALLIFNC-KMB-388949968.2016,662.89(Cr)13-Aug-19MB:PAIDCARDNUMBERXX3995PAYVPI-999574844113889.8215,773.07(Cr)14-Aug-19ECSICR-RELIANCEINDUSTRIESNC-KMB-195116083130.0015,903.07(Cr)13-Sep-19MB:PAIDCARDNUMBERXX3995VPI-999561082284799.0015,104.07(Cr)24-Sep-19Chrg:KSDPChargesRecoveredDated2019-09-23(ValueDate:23-SEP-19)KSDP36279160.4814,943.59(Cr)30-Sep-19NEFTN273190939987202NATIONALSECURITIESDEPOSITNEFTINW-0176182559681.6215,625.21(Cr)30-Sep-19Int.Pd:1112427914:01-07-2019to30-09-2019160.0015,785.21(Cr)Contd.\n"
     ]
    }
   ],
   "source": [
    "page = pdf_reader.getPage(0)\n",
    "print(page.extractText())"
   ]
  },
  {
   "cell_type": "code",
   "execution_count": 64,
   "metadata": {
    "ExecuteTime": {
     "end_time": "2020-09-20T11:11:26.728474Z",
     "start_time": "2020-09-20T11:11:26.724519Z"
    }
   },
   "outputs": [],
   "source": [
    "from PIL import Image\n",
    "import pytesseract\n",
    "import argparse\n",
    "import cv2\n",
    "import os\n",
    "from pdf2image import convert_from_path "
   ]
  },
  {
   "cell_type": "code",
   "execution_count": 52,
   "metadata": {
    "ExecuteTime": {
     "end_time": "2020-09-20T09:07:14.027291Z",
     "start_time": "2020-09-20T09:07:14.024299Z"
    }
   },
   "outputs": [],
   "source": [
    "# pages = convert_from_path(pdf_path, 1) "
   ]
  },
  {
   "cell_type": "code",
   "execution_count": 48,
   "metadata": {
    "ExecuteTime": {
     "end_time": "2020-09-20T09:05:56.815958Z",
     "start_time": "2020-09-20T09:05:56.811969Z"
    }
   },
   "outputs": [],
   "source": [
    "import pytesseract as pyocr"
   ]
  },
  {
   "cell_type": "code",
   "execution_count": 56,
   "metadata": {
    "ExecuteTime": {
     "end_time": "2020-09-20T09:19:44.235953Z",
     "start_time": "2020-09-20T09:19:44.223987Z"
    }
   },
   "outputs": [
    {
     "ename": "TypeError",
     "evalue": "'module' object is not callable",
     "output_type": "error",
     "traceback": [
      "\u001b[1;31m---------------------------------------------------------------------------\u001b[0m",
      "\u001b[1;31mTypeError\u001b[0m                                 Traceback (most recent call last)",
      "\u001b[1;32m<ipython-input-56-6dcd8c61c978>\u001b[0m in \u001b[0;36m<module>\u001b[1;34m\u001b[0m\n\u001b[1;32m----> 1\u001b[1;33m \u001b[0mimagePdf\u001b[0m \u001b[1;33m=\u001b[0m \u001b[0mImage\u001b[0m\u001b[1;33m(\u001b[0m\u001b[0mfilename\u001b[0m\u001b[1;33m=\u001b[0m\u001b[0mpdf_path\u001b[0m\u001b[1;33m,\u001b[0m \u001b[0mresolution\u001b[0m\u001b[1;33m=\u001b[0m\u001b[1;36m300\u001b[0m\u001b[1;33m)\u001b[0m\u001b[1;33m\u001b[0m\u001b[1;33m\u001b[0m\u001b[0m\n\u001b[0m",
      "\u001b[1;31mTypeError\u001b[0m: 'module' object is not callable"
     ]
    }
   ],
   "source": [
    "imagePdf = Image(filename=pdf_path, resolution=300)"
   ]
  },
  {
   "cell_type": "code",
   "execution_count": 68,
   "metadata": {
    "ExecuteTime": {
     "end_time": "2020-09-20T11:26:58.331201Z",
     "start_time": "2020-09-20T11:26:58.082657Z"
    }
   },
   "outputs": [
    {
     "ename": "ImportError",
     "evalue": "MagickWand shared library not found.\nYou probably had not installed ImageMagick library.\nTry to install:\n  http://docs.wand-py.org/en/latest/guide/install.html#install-imagemagick-on-windows",
     "output_type": "error",
     "traceback": [
      "\u001b[1;31m---------------------------------------------------------------------------\u001b[0m",
      "\u001b[1;31mOSError\u001b[0m                                   Traceback (most recent call last)",
      "\u001b[1;32m~\\.conda\\envs\\deepface\\lib\\site-packages\\wand\\api.py\u001b[0m in \u001b[0;36m<module>\u001b[1;34m\u001b[0m\n\u001b[0;32m    150\u001b[0m \u001b[1;32mtry\u001b[0m\u001b[1;33m:\u001b[0m\u001b[1;33m\u001b[0m\u001b[1;33m\u001b[0m\u001b[0m\n\u001b[1;32m--> 151\u001b[1;33m     \u001b[0mlibraries\u001b[0m \u001b[1;33m=\u001b[0m \u001b[0mload_library\u001b[0m\u001b[1;33m(\u001b[0m\u001b[1;33m)\u001b[0m\u001b[1;33m\u001b[0m\u001b[1;33m\u001b[0m\u001b[0m\n\u001b[0m\u001b[0;32m    152\u001b[0m \u001b[1;32mexcept\u001b[0m \u001b[1;33m(\u001b[0m\u001b[0mOSError\u001b[0m\u001b[1;33m,\u001b[0m \u001b[0mIOError\u001b[0m\u001b[1;33m)\u001b[0m\u001b[1;33m:\u001b[0m\u001b[1;33m\u001b[0m\u001b[1;33m\u001b[0m\u001b[0m\n",
      "\u001b[1;32m~\\.conda\\envs\\deepface\\lib\\site-packages\\wand\\api.py\u001b[0m in \u001b[0;36mload_library\u001b[1;34m()\u001b[0m\n\u001b[0;32m    139\u001b[0m         \u001b[1;32mreturn\u001b[0m \u001b[0mlibwand\u001b[0m\u001b[1;33m,\u001b[0m \u001b[0mlibmagick\u001b[0m\u001b[1;33m\u001b[0m\u001b[1;33m\u001b[0m\u001b[0m\n\u001b[1;32m--> 140\u001b[1;33m     \u001b[1;32mraise\u001b[0m \u001b[0mIOError\u001b[0m\u001b[1;33m(\u001b[0m\u001b[1;34m'cannot find library; tried paths: '\u001b[0m \u001b[1;33m+\u001b[0m \u001b[0mrepr\u001b[0m\u001b[1;33m(\u001b[0m\u001b[0mtried_paths\u001b[0m\u001b[1;33m)\u001b[0m\u001b[1;33m)\u001b[0m\u001b[1;33m\u001b[0m\u001b[1;33m\u001b[0m\u001b[0m\n\u001b[0m\u001b[0;32m    141\u001b[0m \u001b[1;33m\u001b[0m\u001b[0m\n",
      "\u001b[1;31mOSError\u001b[0m: cannot find library; tried paths: []",
      "\nDuring handling of the above exception, another exception occurred:\n",
      "\u001b[1;31mImportError\u001b[0m                               Traceback (most recent call last)",
      "\u001b[1;32m<ipython-input-68-ed815105052f>\u001b[0m in \u001b[0;36m<module>\u001b[1;34m\u001b[0m\n\u001b[1;32m----> 1\u001b[1;33m \u001b[1;32mfrom\u001b[0m \u001b[0mwand\u001b[0m\u001b[1;33m.\u001b[0m\u001b[0mimage\u001b[0m \u001b[1;32mimport\u001b[0m \u001b[0mImage\u001b[0m \u001b[1;32mas\u001b[0m \u001b[0mwi\u001b[0m\u001b[1;33m\u001b[0m\u001b[1;33m\u001b[0m\u001b[0m\n\u001b[0m",
      "\u001b[1;32m~\\.conda\\envs\\deepface\\lib\\site-packages\\wand\\image.py\u001b[0m in \u001b[0;36m<module>\u001b[1;34m\u001b[0m\n\u001b[0;32m     16\u001b[0m \u001b[1;32mimport\u001b[0m \u001b[0mweakref\u001b[0m\u001b[1;33m\u001b[0m\u001b[1;33m\u001b[0m\u001b[0m\n\u001b[0;32m     17\u001b[0m \u001b[1;33m\u001b[0m\u001b[0m\n\u001b[1;32m---> 18\u001b[1;33m \u001b[1;32mfrom\u001b[0m \u001b[1;33m.\u001b[0m \u001b[1;32mimport\u001b[0m \u001b[0massertions\u001b[0m\u001b[1;33m\u001b[0m\u001b[1;33m\u001b[0m\u001b[0m\n\u001b[0m\u001b[0;32m     19\u001b[0m \u001b[1;32mfrom\u001b[0m \u001b[1;33m.\u001b[0m\u001b[0mapi\u001b[0m \u001b[1;32mimport\u001b[0m \u001b[0mlibc\u001b[0m\u001b[1;33m,\u001b[0m \u001b[0mlibmagick\u001b[0m\u001b[1;33m,\u001b[0m \u001b[0mlibrary\u001b[0m\u001b[1;33m\u001b[0m\u001b[1;33m\u001b[0m\u001b[0m\n\u001b[0;32m     20\u001b[0m \u001b[1;32mfrom\u001b[0m \u001b[1;33m.\u001b[0m\u001b[0mcolor\u001b[0m \u001b[1;32mimport\u001b[0m \u001b[0mColor\u001b[0m\u001b[1;33m\u001b[0m\u001b[1;33m\u001b[0m\u001b[0m\n",
      "\u001b[1;32m~\\.conda\\envs\\deepface\\lib\\site-packages\\wand\\assertions.py\u001b[0m in \u001b[0;36m<module>\u001b[1;34m\u001b[0m\n\u001b[0;32m    153\u001b[0m \u001b[1;33m\u001b[0m\u001b[0m\n\u001b[0;32m    154\u001b[0m \u001b[1;31m# Lazy load recursive import\u001b[0m\u001b[1;33m\u001b[0m\u001b[1;33m\u001b[0m\u001b[1;33m\u001b[0m\u001b[0m\n\u001b[1;32m--> 155\u001b[1;33m \u001b[1;32mfrom\u001b[0m \u001b[1;33m.\u001b[0m\u001b[0mcolor\u001b[0m \u001b[1;32mimport\u001b[0m \u001b[0mColor\u001b[0m  \u001b[1;31m# noqa: E402\u001b[0m\u001b[1;33m\u001b[0m\u001b[1;33m\u001b[0m\u001b[0m\n\u001b[0m",
      "\u001b[1;32m~\\.conda\\envs\\deepface\\lib\\site-packages\\wand\\color.py\u001b[0m in \u001b[0;36m<module>\u001b[1;34m\u001b[0m\n\u001b[0;32m      8\u001b[0m \u001b[1;32mimport\u001b[0m \u001b[0mnumbers\u001b[0m\u001b[1;33m\u001b[0m\u001b[1;33m\u001b[0m\u001b[0m\n\u001b[0;32m      9\u001b[0m \u001b[1;33m\u001b[0m\u001b[0m\n\u001b[1;32m---> 10\u001b[1;33m \u001b[1;32mfrom\u001b[0m \u001b[1;33m.\u001b[0m\u001b[0mapi\u001b[0m \u001b[1;32mimport\u001b[0m \u001b[0mlibrary\u001b[0m\u001b[1;33m\u001b[0m\u001b[1;33m\u001b[0m\u001b[0m\n\u001b[0m\u001b[0;32m     11\u001b[0m \u001b[1;32mfrom\u001b[0m \u001b[1;33m.\u001b[0m\u001b[0mcdefs\u001b[0m\u001b[1;33m.\u001b[0m\u001b[0mstructures\u001b[0m \u001b[1;32mimport\u001b[0m \u001b[0mMagickPixelPacket\u001b[0m\u001b[1;33m,\u001b[0m \u001b[0mPixelInfo\u001b[0m\u001b[1;33m\u001b[0m\u001b[1;33m\u001b[0m\u001b[0m\n\u001b[0;32m     12\u001b[0m \u001b[1;32mfrom\u001b[0m \u001b[1;33m.\u001b[0m\u001b[0mcompat\u001b[0m \u001b[1;32mimport\u001b[0m \u001b[0mbinary\u001b[0m\u001b[1;33m,\u001b[0m \u001b[0mtext\u001b[0m\u001b[1;33m\u001b[0m\u001b[1;33m\u001b[0m\u001b[0m\n",
      "\u001b[1;32m~\\.conda\\envs\\deepface\\lib\\site-packages\\wand\\api.py\u001b[0m in \u001b[0;36m<module>\u001b[1;34m\u001b[0m\n\u001b[0;32m    175\u001b[0m     raise ImportError('MagickWand shared library not found.\\n'\n\u001b[0;32m    176\u001b[0m                       \u001b[1;34m'You probably had not installed ImageMagick library.\\n'\u001b[0m\u001b[1;33m\u001b[0m\u001b[1;33m\u001b[0m\u001b[0m\n\u001b[1;32m--> 177\u001b[1;33m                       'Try to install:\\n  ' + msg)\n\u001b[0m\u001b[0;32m    178\u001b[0m \u001b[1;33m\u001b[0m\u001b[0m\n\u001b[0;32m    179\u001b[0m \u001b[1;31m#: (:class:`ctypes.CDLL`) The MagickWand library.\u001b[0m\u001b[1;33m\u001b[0m\u001b[1;33m\u001b[0m\u001b[1;33m\u001b[0m\u001b[0m\n",
      "\u001b[1;31mImportError\u001b[0m: MagickWand shared library not found.\nYou probably had not installed ImageMagick library.\nTry to install:\n  http://docs.wand-py.org/en/latest/guide/install.html#install-imagemagick-on-windows"
     ]
    }
   ],
   "source": [
    "from wand.image import Image as wi"
   ]
  },
  {
   "cell_type": "code",
   "execution_count": 57,
   "metadata": {
    "ExecuteTime": {
     "end_time": "2020-09-20T09:23:01.297727Z",
     "start_time": "2020-09-20T09:23:01.288756Z"
    }
   },
   "outputs": [],
   "source": [
    "def convert(filepath):\n",
    "    with open(filepath, \"rb\") as file:\n",
    "        pdf = file.read()\n",
    "\n",
    "    startmark = b\"\\xff\\xd8\"\n",
    "    startfix = 0\n",
    "    endmark = b\"\\xff\\xd9\"\n",
    "    endfix = 2\n",
    "    i = 0\n",
    "\n",
    "    njpg = 0\n",
    "    while True:\n",
    "        istream = pdf.find(b\"stream\", i)\n",
    "        if istream < 0:\n",
    "            break\n",
    "        istart = pdf.find(startmark, istream, istream + 20)\n",
    "        if istart < 0:\n",
    "            i = istream + 20\n",
    "            continue\n",
    "        iend = pdf.find(b\"endstream\", istart)\n",
    "        if iend < 0:\n",
    "            raise Exception(\"Didn't find end of stream!\")\n",
    "        iend = pdf.find(endmark, iend - 20)\n",
    "        if iend < 0:\n",
    "            raise Exception(\"Didn't find end of JPG!\")\n",
    "\n",
    "        istart += startfix\n",
    "        iend += endfix\n",
    "        jpg = pdf[istart:iend]\n",
    "        newfile = \"{}jpg\".format(filepath[:-3])\n",
    "        with open(newfile, \"wb\") as jpgfile:\n",
    "            jpgfile.write(jpg)\n",
    "\n",
    "        njpg += 1\n",
    "        i = iend\n",
    "        \n",
    "        return newfile"
   ]
  },
  {
   "cell_type": "code",
   "execution_count": 59,
   "metadata": {
    "ExecuteTime": {
     "end_time": "2020-09-20T09:31:04.848852Z",
     "start_time": "2020-09-20T09:31:04.844862Z"
    }
   },
   "outputs": [],
   "source": [
    "im = convert(pdf_path)"
   ]
  },
  {
   "cell_type": "code",
   "execution_count": 72,
   "metadata": {
    "ExecuteTime": {
     "end_time": "2020-09-20T11:50:42.326314Z",
     "start_time": "2020-09-20T11:50:39.210621Z"
    }
   },
   "outputs": [],
   "source": [
    "pages = convert_from_path(pdf_path, poppler_path=\"D:/ProjectResources/poppler-0.90.1/bin\")"
   ]
  },
  {
   "cell_type": "code",
   "execution_count": 74,
   "metadata": {
    "ExecuteTime": {
     "end_time": "2020-09-20T11:51:06.483413Z",
     "start_time": "2020-09-20T11:51:06.479423Z"
    }
   },
   "outputs": [],
   "source": [
    "im = pages[0]"
   ]
  },
  {
   "cell_type": "code",
   "execution_count": null,
   "metadata": {},
   "outputs": [],
   "source": []
  },
  {
   "cell_type": "code",
   "execution_count": null,
   "metadata": {},
   "outputs": [],
   "source": []
  },
  {
   "cell_type": "code",
   "execution_count": 69,
   "metadata": {
    "ExecuteTime": {
     "end_time": "2020-09-20T11:34:46.679349Z",
     "start_time": "2020-09-20T11:34:46.365183Z"
    }
   },
   "outputs": [],
   "source": [
    "import ghostscript\n",
    "import locale\n",
    "\n",
    "op_path = \"D:/MyDocs/ITR2019-2020/a.jpeg\"\n",
    "\n",
    "def pdf2jpeg(pdf_input_path, jpeg_output_path):\n",
    "    args = [\"pef2jpeg\", # actual value doesn't matter\n",
    "            \"-dNOPAUSE\",\n",
    "            \"-sDEVICE=jpeg\",\n",
    "            \"-r144\",\n",
    "            \"-sOutputFile=\" + jpeg_output_path,\n",
    "            pdf_input_path]\n",
    "\n",
    "    encoding = locale.getpreferredencoding()\n",
    "    args = [a.encode(encoding) for a in args]\n",
    "\n",
    "    ghostscript.Ghostscript(*args)\n",
    "\n",
    "pdf2jpeg(pdf_path, op_path)\n",
    "         \n"
   ]
  },
  {
   "cell_type": "code",
   "execution_count": null,
   "metadata": {
    "ExecuteTime": {
     "end_time": "2020-09-20T11:49:11.203491Z",
     "start_time": "2020-09-20T11:49:11.199501Z"
    }
   },
   "outputs": [],
   "source": []
  },
  {
   "cell_type": "code",
   "execution_count": 75,
   "metadata": {
    "ExecuteTime": {
     "end_time": "2020-09-20T11:51:59.989367Z",
     "start_time": "2020-09-20T11:51:59.986375Z"
    }
   },
   "outputs": [],
   "source": [
    "from PIL import Image\n",
    "import pytesseract\n",
    "import argparse\n",
    "import cv2\n",
    "import os"
   ]
  },
  {
   "cell_type": "code",
   "execution_count": 86,
   "metadata": {
    "ExecuteTime": {
     "end_time": "2020-09-20T12:03:40.112656Z",
     "start_time": "2020-09-20T12:03:40.071945Z"
    }
   },
   "outputs": [],
   "source": [
    "image = cv2.imread(\"D:/Dataset/pdfimages/page_1.jpg\")"
   ]
  },
  {
   "cell_type": "code",
   "execution_count": null,
   "metadata": {
    "ExecuteTime": {
     "end_time": "2020-09-20T11:52:26.990015Z",
     "start_time": "2020-09-20T11:52:26.840377Z"
    }
   },
   "outputs": [],
   "source": [
    "page[0].save()"
   ]
  },
  {
   "cell_type": "code",
   "execution_count": 82,
   "metadata": {
    "ExecuteTime": {
     "end_time": "2020-09-20T11:58:25.973725Z",
     "start_time": "2020-09-20T11:58:25.547853Z"
    }
   },
   "outputs": [],
   "source": [
    "op_path = \"D:/Dataset/pdfimages\"\n",
    "\n",
    "import tempfile\n",
    "with tempfile.TemporaryDirectory() as path:\n",
    "    images_from_path = convert_from_path(pdf_path, output_folder=op_path, poppler_path=\"D:/ProjectResources/poppler-0.90.1/bin\")"
   ]
  },
  {
   "cell_type": "code",
   "execution_count": 83,
   "metadata": {
    "ExecuteTime": {
     "end_time": "2020-09-20T12:01:09.241948Z",
     "start_time": "2020-09-20T12:01:08.610907Z"
    }
   },
   "outputs": [],
   "source": [
    "pil_images = convert_from_path(pdf_path, poppler_path=\"D:/ProjectResources/poppler-0.90.1/bin\")"
   ]
  },
  {
   "cell_type": "code",
   "execution_count": 85,
   "metadata": {
    "ExecuteTime": {
     "end_time": "2020-09-20T12:02:31.022013Z",
     "start_time": "2020-09-20T12:02:30.948336Z"
    }
   },
   "outputs": [],
   "source": [
    "index = 1\n",
    "for image in pil_images:\n",
    "    image.save(op_path+\"/page_\" + str(index) + \".jpg\")\n",
    "    index += 1"
   ]
  },
  {
   "cell_type": "code",
   "execution_count": 88,
   "metadata": {
    "ExecuteTime": {
     "end_time": "2020-09-20T12:03:58.496324Z",
     "start_time": "2020-09-20T12:03:58.488345Z"
    },
    "scrolled": true
   },
   "outputs": [],
   "source": [
    "gray = cv2.cvtColor(image, cv2.COLOR_BGR2GRAY)"
   ]
  },
  {
   "cell_type": "code",
   "execution_count": 92,
   "metadata": {
    "ExecuteTime": {
     "end_time": "2020-09-20T12:06:00.037136Z",
     "start_time": "2020-09-20T12:05:35.185048Z"
    }
   },
   "outputs": [],
   "source": [
    "cv2.imshow(\"aa\",gray)\n",
    "cv2.waitKey(0)\n",
    "cv2.destroyAllWindows()"
   ]
  },
  {
   "cell_type": "markdown",
   "metadata": {},
   "source": [
    "gray = cv2.threshold(gray, 0, 255, cv2.THRESH_BINARY | cv2.THRESH_OTSU)[1]"
   ]
  },
  {
   "cell_type": "code",
   "execution_count": 93,
   "metadata": {
    "ExecuteTime": {
     "end_time": "2020-09-20T12:06:36.732650Z",
     "start_time": "2020-09-20T12:06:36.714671Z"
    }
   },
   "outputs": [],
   "source": [
    "gray = cv2.threshold(gray, 0, 255, cv2.THRESH_BINARY | cv2.THRESH_OTSU)[1]"
   ]
  },
  {
   "cell_type": "code",
   "execution_count": 94,
   "metadata": {
    "ExecuteTime": {
     "end_time": "2020-09-20T12:07:05.178977Z",
     "start_time": "2020-09-20T12:07:05.160028Z"
    }
   },
   "outputs": [
    {
     "data": {
      "text/plain": [
       "True"
      ]
     },
     "execution_count": 94,
     "metadata": {},
     "output_type": "execute_result"
    }
   ],
   "source": [
    "filename = \"{}.png\".format(os.getpid())\n",
    "cv2.imwrite(filename, gray)"
   ]
  },
  {
   "cell_type": "code",
   "execution_count": 95,
   "metadata": {
    "ExecuteTime": {
     "end_time": "2020-09-20T12:07:18.471074Z",
     "start_time": "2020-09-20T12:07:16.469810Z"
    }
   },
   "outputs": [],
   "source": [
    "text = pytesseract.image_to_string(Image.open(filename))"
   ]
  },
  {
   "cell_type": "code",
   "execution_count": 96,
   "metadata": {
    "ExecuteTime": {
     "end_time": "2020-09-20T12:07:22.415656Z",
     "start_time": "2020-09-20T12:07:22.411667Z"
    }
   },
   "outputs": [
    {
     "name": "stdout",
     "output_type": "stream",
     "text": [
      "Kotak Mahindra Bank\n",
      "\n",
      " \n",
      "\n",
      "Krishna Murty Pandey Period\n",
      "1612 Housing Board Colony\n",
      "Sector 31 Gurgaon\n",
      "\n",
      "01-Apr-19 to 31-Mar-20\n",
      "Currency Indian Rupees\n",
      "\n",
      "Home Branch Gurgaon - Sec 31\n",
      "Nominee Registered Yes\n",
      "\n",
      "GURGAON 121001 Nominee Name NAMRATA UPADHVAY\n",
      "\n",
      "HARYANA\n",
      "INDIA\n",
      "\n",
      "CRN No. 211795051\n",
      "AccountNo. 1112427914\n",
      "\n",
      "Statement of Ban Account\n",
      "\n",
      "Date Narration Chq/Ref No. Withdrawal (Dr) Deposit (Cr) Balance\n",
      "01-Apr-19 OPENING BALANCE ... 37,280.88 37,280.88 (Cr)\n",
      "01-Apr-19 KS 3IN1 IPON KVFQO 0013410370 3IN1-0013410370 5,000.00 32,280.88 (Cr)\n",
      "03-Apr-19 ECSICR-BHARAT DYNAMICS 183.75 32,464.63 (Cr)\n",
      "LIMINC-KMB-0000000000000000\n",
      "\n",
      "06-Apr-19 UPI/TPSLCARD@yb/909639099685/Payment for UPI-909613026750 3,451.00 29,013.63 (Cr)\n",
      "\n",
      "16-Apr-19 DP CHARGES RECOVERED 160.48 28,853.15 (Cr)\n",
      "\n",
      "18-Apr-19 KS 3IN1 SP N KVFQO 0013483718 3IN1-0013483718 10,000.00 18,853.15 (Cr)\n",
      "\n",
      "22-Apr-19 ECSICR-SBI LIFE INSURANCE 42.00 18,895.15 (Cr)\n",
      "CNC-KMB-1422739\n",
      "\n",
      "01-May-19 UPI/8527475354@/912118996563/Payment fro UPI-912109413200 7,000.00 25,895.15 (Cr)\n",
      "\n",
      "02-May-19 KS 3IN1 IPON KVFQ0 0013533374 3IN1-0013533374 5,000.00 20,895.15 (Cr)\n",
      "\n",
      "13-May-19 Chrg: Debit Card Annual Fee 8160 For 2019 TBMS 177.00 20,718.15 (Cr)\n",
      "\n",
      "14-May-19 UPI/TPSLCARD@yb/913438733925/Payment for UPI-913419288541 800.00 19,918.15 (Cr)\n",
      "\n",
      "15-May-19 KSPAYOUT CMS-190515000HAO 25,000.00 44,918.15 (Cr)\n",
      "\n",
      "20-May-19 UPI/8527475354@/914033365159/Reguiar UPI-914011299550 12,000.00 32,918.15 (Cr)\n",
      "\n",
      "26-May-19 UPVEURONET @ybl/914636828472/Payment for UPI-914609854342 10.00 32,908.15 (Cr)\n",
      "\n",
      "05-Jun-19 KS 3IN1 SP N KVFQ0 0013691149 3IN1-0013691149 16,600.00 16,308.15 (Cr)\n",
      "\n",
      "14-Jun-19 UPI/TPSLCARD@yb/016516379775/Payment for UPI-916508626537 800.00 15,508.15 (Cr)\n",
      "\n",
      "17-Jun-19 ECSICR-TCS FINDIV 18.00 15,526.15 (Cr)\n",
      "170619NC-KMB-C200333662IN3002142\n",
      "\n",
      "25-Jun-19 ECSICR-INFOSYS LIMITEDNC-KMB-18195177 262.50 15,788.65 (Cr)\n",
      "\n",
      "26-Jun-19 DP CHARGES RECOVERED 44.96 15,743.69 (Cr)\n",
      "\n",
      "28-Jun-19 ECSICR-ICICI LOMBARD 77.00 15,820.69 (Cr)\n",
      "GENERANC-KMB-2073492\n",
      "\n",
      "30-Jun-19 Int.Pd:1112427914:01-04-2019 to 30-06-2019 275.00 16,095.69 (Cr)\n",
      "\n",
      "23-Jul-19 ECSICR-TCS INTERIM 5.00 16,100.69 (Cr)\n",
      "230719NC-KMB-C200341364IN300214\n",
      "\n",
      "30-Jul-19 IMPS from HSBC RTGS T Ref 921119200819 IMPS-921119723621 1.00 16,101.69 (Cr)\n",
      "\n",
      "08-Aug-19 ECSICR-MAHINDRA & 493.00 16,594.68 (Cr)\n",
      "MAHINDRANC-KMB-10839605\n",
      "\n",
      "13-Aug-19 ECSICR-ICIC] PRUDENTIAL 68.20 16,662.89 (Cr)\n",
      "LIFNC-KMB-3889489\n",
      "\n",
      "13-Aug-19 MB:PAID CARD NUMBER XX3995 PAY VPI-999574844113 889.82 15,773.07 (Cr)\n",
      "\n",
      "14-Aug-19 ECSICR-RELIANCE 130.00 15,903.07 (Cr)\n",
      "INDUSTRIESNC-KMB-1951 16083\n",
      "\n",
      "13-Sep-19 MB:PAID CARD NUMBER XX3995 VPI-999561082284 799.00 15,104.07 (Cr)\n",
      "\n",
      "24-Sep-19 Chrg: KS DP Charges Recovered Dated2019-09-23 KSDP36279 160.48 14,943.59 (Cr)\n",
      "(Value Date :23-SEP-19)\n",
      "\n",
      "30-Sep-19 NEFT N273190939987202 NATIONAL NEFTINW-0176182559 681.62 15,625.21 (Cr)\n",
      "SECURITIES DEPOSIT\n",
      "\n",
      "30-Sep-19 Int.Pd:1112427914:01-07-2019 to 30-09-2019 160.00 15,785.21 (Cr)\n",
      "\n",
      "Contd.\n",
      "\f",
      "\n"
     ]
    }
   ],
   "source": [
    "os.remove(filename)\n",
    "print(text)"
   ]
  },
  {
   "cell_type": "code",
   "execution_count": 100,
   "metadata": {
    "ExecuteTime": {
     "end_time": "2020-09-22T16:45:02.453451Z",
     "start_time": "2020-09-22T16:45:02.193076Z"
    }
   },
   "outputs": [],
   "source": [
    "import pandas as pd \n",
    "import requests\n",
    "import json\n",
    "\n",
    "url = \"https://www.nseindia.com/api/option-chain-indices?symbol=NIFTY\"\n",
    "\n",
    "headers = {'user-agent': 'Mozilla/5.0 (Macintosh; Intel Mac OS X 10_15_5) AppleWebKit/537.36 (KHTML, like Gecko) Chrome/83.0.4103.106 Safari/537.36',\n",
    "\"accept-language\": \"en-US,en;q=0.9,hi;q=0.8\",\"accept-encoding\": \"gzip, deflate, br\"}\n",
    "\n",
    "cookie_dict = {'bm_sv' : 'AA02590AB18B4FC4A036CC62F5230694~8py6nqGfKvu3P4aKZoNpf4HZOUYQJ4i6JMyPMX14ksLZYE+0HlglIA3S2AAa9JGJPvXrBHcJ7uS2ZMcMq3f+FZ/ttHuqFzuAmMf1ZnI9hFgpqB7USISOoa3NfzMufwVAd0U7MgeSxF7+GjuyOuApyOQcoHmyr53hB4JLSqd0U1s'}\n",
    "    \n",
    "session = requests.session()\n",
    "\n",
    "for cookie in cookie_dict:\n",
    "    session.cookies.set(cookie,cookie_dict[cookie])\n",
    "\n",
    "\n",
    "expiry = '27-SEP-2020'\n",
    "r = session.get(url, headers=headers).json()\n",
    "   #print(r)      PRINT 1 - THIS PRINT IS WORKING \n",
    "\n",
    "if expiry:\n",
    "    ce_values = [data['CE'] for data in r ['records']['data'] if \"CE\" in data and str(data['expiryDate'].lower() == str(expiry).lower())]\n",
    "    pe_values = [data['PE'] for data in r ['records']['data'] if \"PE\" in data and str(data['expiryDate'].lower() == str(expiry).lower())]\n",
    "else:\n",
    "    ce_values = [data['CE'] for data in r ['filtered']['data'] if \"CE\" in data]\n",
    "    pe_values = [data['PE'] for data in r ['filtered']['data'] if \"PE\" in data]\n",
    "    print(ce_values) # PRINT 2 NO OUTPUT NO ERROR\n",
    "\n",
    "    ce_data = pd.DataFrame(ce_values)\n",
    "    pe_data = pd.DataFrame(pe_values)\n",
    "    ce_data = ce_data.sort_values(['strikePrice'])\n",
    "    pe_data = pe_data.sort_values(['strikePrice'])\n",
    "    print(ce_values)      # PRINT 3 NO OUTPUT NO ERROR "
   ]
  },
  {
   "cell_type": "code",
   "execution_count": null,
   "metadata": {},
   "outputs": [],
   "source": []
  }
 ],
 "metadata": {
  "kernelspec": {
   "display_name": "Python 3",
   "language": "python",
   "name": "python3"
  },
  "language_info": {
   "codemirror_mode": {
    "name": "ipython",
    "version": 3
   },
   "file_extension": ".py",
   "mimetype": "text/x-python",
   "name": "python",
   "nbconvert_exporter": "python",
   "pygments_lexer": "ipython3",
   "version": "3.6.10"
  },
  "toc": {
   "base_numbering": 1,
   "nav_menu": {},
   "number_sections": true,
   "sideBar": true,
   "skip_h1_title": false,
   "title_cell": "Table of Contents",
   "title_sidebar": "Contents",
   "toc_cell": false,
   "toc_position": {},
   "toc_section_display": true,
   "toc_window_display": false
  }
 },
 "nbformat": 4,
 "nbformat_minor": 4
}
